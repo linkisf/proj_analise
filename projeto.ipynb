{
 "cells": [
  {
   "cell_type": "code",
   "execution_count": 1,
   "metadata": {},
   "outputs": [],
   "source": [
    "import pandas as pd"
   ]
  },
  {
   "cell_type": "code",
   "execution_count": 12,
   "metadata": {},
   "outputs": [],
   "source": [
    "df_data_covid = pd.read_csv('Datasets/1/country_wise_latest.csv')\n",
    "df_data_covid = df_data_covid[['Country/Region', 'Confirmed', 'Deaths', 'Recovered']]"
   ]
  },
  {
   "cell_type": "code",
   "execution_count": 13,
   "metadata": {},
   "outputs": [],
   "source": [
    "df_indicadores_saude = pd.read_csv('Datasets/1/country_health_indicators_v3.csv')\n",
    "df_indicadores_saude = df_indicadores_saude[['Country_Region', 'Cardiovascular diseases (%)', 'Cancers (%)']]"
   ]
  },
  {
   "cell_type": "code",
   "execution_count": 14,
   "metadata": {},
   "outputs": [],
   "source": [
    "df_paises = pd.read_csv('Datasets/1/population_by_country_2020.csv')\n",
    "df_paises = df_paises[['Country (or dependency)','Population (2020)', 'Density (P/Km²)', 'Land Area (Km²)', 'Urban Pop %']]"
   ]
  },
  {
   "cell_type": "markdown",
   "metadata": {},
   "source": [
    "# -------------------------------------------------------------------------------------------------"
   ]
  },
  {
   "cell_type": "code",
   "execution_count": 16,
   "metadata": {},
   "outputs": [],
   "source": [
    "df_data_covid_0 = df_data_covid.loc[df_data_covid['Country/Region'] == 'Afghanistan']"
   ]
  },
  {
   "cell_type": "code",
   "execution_count": 17,
   "metadata": {},
   "outputs": [],
   "source": [
    "df_indicadores_saude_0 = df_indicadores_saude.loc[df_indicadores_saude['Country_Region'] == 'Afghanistan']"
   ]
  },
  {
   "cell_type": "code",
   "execution_count": 18,
   "metadata": {},
   "outputs": [],
   "source": [
    "df_paises_0 = df_paises.loc[df_paises['Country (or dependency)'] == 'Afghanistan']"
   ]
  },
  {
   "cell_type": "code",
   "execution_count": 33,
   "metadata": {},
   "outputs": [],
   "source": [
    "df_principal = pd.merge(df_data_covid_0, df_indicadores_saude_0, left_on='Country/Region', right_on='Country_Region')"
   ]
  },
  {
   "cell_type": "code",
   "execution_count": 35,
   "metadata": {},
   "outputs": [],
   "source": [
    "df_principal = pd.merge(df_principal,df_paises_0, left_on='Country/Region', right_on='Country (or dependency)')"
   ]
  },
  {
   "cell_type": "code",
   "execution_count": 37,
   "metadata": {},
   "outputs": [],
   "source": [
    "df_principal = df_principal.drop(['Country_Region', 'Country (or dependency)'], axis=1)\n"
   ]
  },
  {
   "cell_type": "code",
   "execution_count": 38,
   "metadata": {},
   "outputs": [
    {
     "data": {
      "text/html": [
       "<div>\n",
       "<style scoped>\n",
       "    .dataframe tbody tr th:only-of-type {\n",
       "        vertical-align: middle;\n",
       "    }\n",
       "\n",
       "    .dataframe tbody tr th {\n",
       "        vertical-align: top;\n",
       "    }\n",
       "\n",
       "    .dataframe thead th {\n",
       "        text-align: right;\n",
       "    }\n",
       "</style>\n",
       "<table border=\"1\" class=\"dataframe\">\n",
       "  <thead>\n",
       "    <tr style=\"text-align: right;\">\n",
       "      <th></th>\n",
       "      <th>Country/Region</th>\n",
       "      <th>Confirmed</th>\n",
       "      <th>Deaths</th>\n",
       "      <th>Recovered</th>\n",
       "      <th>Cardiovascular diseases (%)</th>\n",
       "      <th>Cancers (%)</th>\n",
       "      <th>Population (2020)</th>\n",
       "      <th>Density (P/Km²)</th>\n",
       "      <th>Land Area (Km²)</th>\n",
       "      <th>Urban Pop %</th>\n",
       "    </tr>\n",
       "  </thead>\n",
       "  <tbody>\n",
       "    <tr>\n",
       "      <th>0</th>\n",
       "      <td>Afghanistan</td>\n",
       "      <td>36263</td>\n",
       "      <td>1269</td>\n",
       "      <td>25198</td>\n",
       "      <td>8.953006</td>\n",
       "      <td>3.372082</td>\n",
       "      <td>39074280</td>\n",
       "      <td>60</td>\n",
       "      <td>652860</td>\n",
       "      <td>25 %</td>\n",
       "    </tr>\n",
       "  </tbody>\n",
       "</table>\n",
       "</div>"
      ],
      "text/plain": [
       "  Country/Region  Confirmed  Deaths  Recovered  Cardiovascular diseases (%)  \\\n",
       "0    Afghanistan      36263    1269      25198                     8.953006   \n",
       "\n",
       "   Cancers (%)  Population (2020)  Density (P/Km²)  Land Area (Km²)  \\\n",
       "0     3.372082           39074280               60           652860   \n",
       "\n",
       "  Urban Pop %  \n",
       "0        25 %  "
      ]
     },
     "execution_count": 38,
     "metadata": {},
     "output_type": "execute_result"
    }
   ],
   "source": [
    "df_principal"
   ]
  }
 ],
 "metadata": {
  "kernelspec": {
   "display_name": "Python 3.10.5 64-bit",
   "language": "python",
   "name": "python3"
  },
  "language_info": {
   "codemirror_mode": {
    "name": "ipython",
    "version": 3
   },
   "file_extension": ".py",
   "mimetype": "text/x-python",
   "name": "python",
   "nbconvert_exporter": "python",
   "pygments_lexer": "ipython3",
   "version": "3.10.5"
  },
  "orig_nbformat": 4,
  "vscode": {
   "interpreter": {
    "hash": "369f2c481f4da34e4445cda3fffd2e751bd1c4d706f27375911949ba6bb62e1c"
   }
  }
 },
 "nbformat": 4,
 "nbformat_minor": 2
}
